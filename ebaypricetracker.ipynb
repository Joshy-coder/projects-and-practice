{
  "nbformat": 4,
  "nbformat_minor": 0,
  "metadata": {
    "colab": {
      "provenance": [],
      "authorship_tag": "ABX9TyNfi22yYA97sbdXGqjHAsZl"
    },
    "kernelspec": {
      "name": "python3",
      "display_name": "Python 3"
    },
    "language_info": {
      "name": "python"
    }
  },
  "cells": [
    {
      "cell_type": "code",
      "source": [
        "pip install lxml"
      ],
      "metadata": {
        "colab": {
          "base_uri": "https://localhost:8080/"
        },
        "id": "JK2et9IRnjBd",
        "outputId": "2050f214-d2d0-4f5c-8fb0-bb0253520f5b"
      },
      "execution_count": null,
      "outputs": [
        {
          "output_type": "stream",
          "name": "stdout",
          "text": [
            "Requirement already satisfied: lxml in /usr/local/lib/python3.10/dist-packages (4.9.3)\n"
          ]
        }
      ]
    },
    {
      "cell_type": "code",
      "execution_count": null,
      "metadata": {
        "colab": {
          "base_uri": "https://localhost:8080/",
          "height": 331
        },
        "id": "sv7K8IIUjPPi",
        "outputId": "f9dd00cb-75bf-4df9-b463-a2ddbaa98103"
      },
      "outputs": [
        {
          "output_type": "error",
          "ename": "KeyboardInterrupt",
          "evalue": "ignored",
          "traceback": [
            "\u001b[0;31m---------------------------------------------------------------------------\u001b[0m",
            "\u001b[0;31mKeyboardInterrupt\u001b[0m                         Traceback (most recent call last)",
            "\u001b[0;32m<ipython-input-28-ac5beda8c924>\u001b[0m in \u001b[0;36m<cell line: 39>\u001b[0;34m()\u001b[0m\n\u001b[1;32m     40\u001b[0m     \u001b[0minterval_seconds\u001b[0m \u001b[0;34m=\u001b[0m \u001b[0;36m3600\u001b[0m\u001b[0;34m\u001b[0m\u001b[0;34m\u001b[0m\u001b[0m\n\u001b[1;32m     41\u001b[0m     \u001b[0mnum_samples\u001b[0m \u001b[0;34m=\u001b[0m \u001b[0;36m24\u001b[0m\u001b[0;34m\u001b[0m\u001b[0;34m\u001b[0m\u001b[0m\n\u001b[0;32m---> 42\u001b[0;31m     \u001b[0mtrack_price_and_average\u001b[0m\u001b[0;34m(\u001b[0m\u001b[0murl\u001b[0m\u001b[0;34m,\u001b[0m \u001b[0minterval_seconds\u001b[0m\u001b[0;34m,\u001b[0m \u001b[0mnum_samples\u001b[0m\u001b[0;34m)\u001b[0m\u001b[0;34m\u001b[0m\u001b[0;34m\u001b[0m\u001b[0m\n\u001b[0m",
            "\u001b[0;32m<ipython-input-13-020359b104d1>\u001b[0m in \u001b[0;36mtrack_price_and_average\u001b[0;34m(url, interval_seconds, num_samples)\u001b[0m\n\u001b[1;32m     33\u001b[0m \u001b[0;34m\u001b[0m\u001b[0m\n\u001b[1;32m     34\u001b[0m         \u001b[0mnum_samples\u001b[0m \u001b[0;34m-=\u001b[0m \u001b[0;36m1\u001b[0m\u001b[0;34m\u001b[0m\u001b[0;34m\u001b[0m\u001b[0m\n\u001b[0;32m---> 35\u001b[0;31m         \u001b[0mtime\u001b[0m\u001b[0;34m.\u001b[0m\u001b[0msleep\u001b[0m\u001b[0;34m(\u001b[0m\u001b[0minterval_seconds\u001b[0m\u001b[0;34m)\u001b[0m\u001b[0;34m\u001b[0m\u001b[0;34m\u001b[0m\u001b[0m\n\u001b[0m\u001b[1;32m     36\u001b[0m \u001b[0;34m\u001b[0m\u001b[0m\n\u001b[1;32m     37\u001b[0m     \u001b[0;32mif\u001b[0m \u001b[0mlen\u001b[0m\u001b[0;34m(\u001b[0m\u001b[0mprices\u001b[0m\u001b[0;34m)\u001b[0m \u001b[0;34m>\u001b[0m \u001b[0;36m0\u001b[0m\u001b[0;34m:\u001b[0m\u001b[0;34m\u001b[0m\u001b[0;34m\u001b[0m\u001b[0m\n",
            "\u001b[0;31mKeyboardInterrupt\u001b[0m: "
          ]
        }
      ],
      "source": [
        "import requests\n",
        "from bs4 import BeautifulSoup\n",
        "import time\n",
        "import numpy as np\n",
        "\n",
        "link = \"https://www.ebay.com/sch/i.html?_from=R40&_trksid=p4432023.m570.l1313&_nkw=Dodge+Viper&_sacat=0\"\n",
        "\n",
        "def get_current_price(link):\n",
        "  response = requests.get(link)\n",
        "  soup = BeautifulSoup(response.text, 'lxml')\n",
        "\n",
        "  price_element = soup.find('span',{\"class\":\"price\"})\n",
        "\n",
        "  if price_element:\n",
        "    current_price = price_element.get_text()\n",
        "    return float(current_price.replace(\"$\", \"\").replace(\",\", \"\"))\n",
        "  else:\n",
        "    return None\n",
        "\n",
        "\n",
        "def avg_price_viper(url, interval_seconds, num_samples):\n",
        "  prices = []\n",
        "\n",
        "  while num_samples > 0:\n",
        "    current_price = get_current_price(link)\n",
        "    if current_price is not None:\n",
        "      prices.append(current_price)\n",
        "      print(f\"Current price {current_price}\")\n",
        "\n",
        "    num_samples -= 1\n",
        "    time.sleep(interval_seconds)\n",
        "\n",
        "  if len(price) > 0:\n",
        "    avg_price = sum(prices)/len(prices)\n",
        "    print(f\"Average prices is {avg_price}\")\n",
        "  else:\n",
        "    print(\"Don't have that data.\")\n",
        "\n",
        "if __name__== \"__main__\":\n",
        "    interval_seconds = 3600\n",
        "    num_samples = 24\n",
        "    track_price_and_average(url, interval_seconds, num_samples)"
      ]
    },
    {
      "cell_type": "code",
      "source": [],
      "metadata": {
        "id": "AWwydTnIoHHj"
      },
      "execution_count": null,
      "outputs": []
    }
  ]
}